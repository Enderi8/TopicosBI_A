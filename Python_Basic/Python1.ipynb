{
 "cells": [
  {
   "cell_type": "markdown",
   "id": "abf5838b",
   "metadata": {},
   "source": [
    "# Python for Big Data\n",
    "\n",
    "1. Variables\n",
    "2. String\n",
    "3. Function print\n",
    "4. Booleanos y Condicionales\n",
    "5. Loops\n",
    "6. Funciones\n",
    "7. Manejo de Excepciones\n"
   ]
  },
  {
   "cell_type": "markdown",
   "id": "286747eb",
   "metadata": {},
   "source": [
    "# 1. Variables"
   ]
  },
  {
   "cell_type": "code",
   "execution_count": 26,
   "id": "cdfb6864",
   "metadata": {},
   "outputs": [
    {
     "data": {
      "text/plain": [
       "4000"
      ]
     },
     "execution_count": 26,
     "metadata": {},
     "output_type": "execute_result"
    }
   ],
   "source": [
    "# Variable no definidos\n",
    "resultado"
   ]
  },
  {
   "cell_type": "code",
   "execution_count": 27,
   "id": "f5c653fc",
   "metadata": {},
   "outputs": [],
   "source": [
    "# Declarando Variables\n",
    "monto_deuda =1000\n",
    "moneda = \"Soles\""
   ]
  },
  {
   "cell_type": "code",
   "execution_count": 28,
   "id": "66fafa75",
   "metadata": {},
   "outputs": [
    {
     "data": {
      "text/plain": [
       "1000"
      ]
     },
     "execution_count": 28,
     "metadata": {},
     "output_type": "execute_result"
    }
   ],
   "source": [
    "# Mostrar variable\n",
    "monto_deuda"
   ]
  },
  {
   "cell_type": "code",
   "execution_count": 29,
   "id": "ee73ebbc",
   "metadata": {},
   "outputs": [
    {
     "data": {
      "text/plain": [
       "'Soles'"
      ]
     },
     "execution_count": 29,
     "metadata": {},
     "output_type": "execute_result"
    }
   ],
   "source": [
    "moneda"
   ]
  },
  {
   "cell_type": "code",
   "execution_count": 30,
   "id": "6281ca01",
   "metadata": {},
   "outputs": [],
   "source": [
    "# Interactuando con el Usuario\n",
    "monto_interes = int(input(\"Ingrese el monto del interes: \"))"
   ]
  },
  {
   "cell_type": "code",
   "execution_count": 31,
   "id": "af2ac910",
   "metadata": {},
   "outputs": [
    {
     "data": {
      "text/plain": [
       "4000"
      ]
     },
     "execution_count": 31,
     "metadata": {},
     "output_type": "execute_result"
    }
   ],
   "source": [
    "# Operando con variables\n",
    "resultado = monto_deuda*4\n",
    "resultado"
   ]
  },
  {
   "cell_type": "code",
   "execution_count": 32,
   "id": "fbc41c80",
   "metadata": {},
   "outputs": [
    {
     "data": {
      "text/plain": [
       "int"
      ]
     },
     "execution_count": 32,
     "metadata": {},
     "output_type": "execute_result"
    }
   ],
   "source": [
    "# Tipo de variable\n",
    "type(monto_deuda)\n"
   ]
  },
  {
   "cell_type": "code",
   "execution_count": 33,
   "id": "d39c816c",
   "metadata": {},
   "outputs": [
    {
     "data": {
      "text/plain": [
       "str"
      ]
     },
     "execution_count": 33,
     "metadata": {},
     "output_type": "execute_result"
    }
   ],
   "source": [
    "type(moneda)"
   ]
  },
  {
   "cell_type": "code",
   "execution_count": 34,
   "id": "67075104",
   "metadata": {},
   "outputs": [
    {
     "data": {
      "text/plain": [
       "16000"
      ]
     },
     "execution_count": 34,
     "metadata": {},
     "output_type": "execute_result"
    }
   ],
   "source": [
    "# Operar variables\n",
    "4*resultado"
   ]
  },
  {
   "cell_type": "code",
   "execution_count": 35,
   "id": "f17bdd0a",
   "metadata": {},
   "outputs": [
    {
     "data": {
      "text/plain": [
       "'1000'"
      ]
     },
     "execution_count": 35,
     "metadata": {},
     "output_type": "execute_result"
    }
   ],
   "source": [
    "# Cambiando tipo de variable\n",
    "str_monto_deuda = str(monto_deuda)\n",
    "str_monto_deuda"
   ]
  },
  {
   "cell_type": "markdown",
   "id": "11b6d6d9",
   "metadata": {},
   "source": [
    "#2. String"
   ]
  },
  {
   "cell_type": "code",
   "execution_count": 36,
   "id": "bfec39d0",
   "metadata": {},
   "outputs": [
    {
     "data": {
      "text/plain": [
       "'El monto de la deuda es: 1000 Soles'"
      ]
     },
     "execution_count": 36,
     "metadata": {},
     "output_type": "execute_result"
    }
   ],
   "source": [
    "# Concatenar\n",
    "mensaje = \"El monto de la deuda es: \"+ str_monto_deuda + \" \" + moneda\n",
    "mensaje"
   ]
  },
  {
   "cell_type": "code",
   "execution_count": 37,
   "id": "06ea461c",
   "metadata": {},
   "outputs": [
    {
     "data": {
      "text/plain": [
       "'Hola'"
      ]
     },
     "execution_count": 37,
     "metadata": {},
     "output_type": "execute_result"
    }
   ],
   "source": [
    "'Ho'+'la'\n"
   ]
  },
  {
   "cell_type": "code",
   "execution_count": 38,
   "id": "e23e700d",
   "metadata": {},
   "outputs": [
    {
     "data": {
      "text/plain": [
       "'Mi primer mensaje'"
      ]
     },
     "execution_count": 38,
     "metadata": {},
     "output_type": "execute_result"
    }
   ],
   "source": [
    "# Uso de Comillas Simples o dobles\n",
    "text_1 = \"Mi primer mensaje\"\n",
    "text_2 = 'Mi segundo mensaje'\n",
    "\n",
    "text_1"
   ]
  },
  {
   "cell_type": "code",
   "execution_count": 39,
   "id": "c6adba00",
   "metadata": {},
   "outputs": [
    {
     "data": {
      "text/plain": [
       "'Mi segundo mensaje'"
      ]
     },
     "execution_count": 39,
     "metadata": {},
     "output_type": "execute_result"
    }
   ],
   "source": [
    "text_2"
   ]
  },
  {
   "cell_type": "code",
   "execution_count": 25,
   "id": "c526b863",
   "metadata": {},
   "outputs": [],
   "source": [
    "# Comillas Triples\n",
    "consulta = \"\"\"SELECT * FROM USERS\n",
    "WHERE ID = 8\n",
    "GROUP BY Admin\"\"\""
   ]
  },
  {
   "cell_type": "code",
   "execution_count": 40,
   "id": "1c3d5d5b",
   "metadata": {},
   "outputs": [
    {
     "data": {
      "text/plain": [
       "'SELECT * FROM USERS\\nWHERE ID = 8\\nGROUP BY Admin'"
      ]
     },
     "execution_count": 40,
     "metadata": {},
     "output_type": "execute_result"
    }
   ],
   "source": [
    "consulta"
   ]
  },
  {
   "cell_type": "code",
   "execution_count": 44,
   "id": "4ef2ee52",
   "metadata": {},
   "outputs": [],
   "source": [
    "# Operaciones con String\n",
    "cadena_1 = \"Hola Mundo\"\n",
    "cadena_2 = \"5\"\n",
    "cadena_3 = \"Cinco\""
   ]
  },
  {
   "cell_type": "code",
   "execution_count": 45,
   "id": "07639cc3",
   "metadata": {},
   "outputs": [
    {
     "data": {
      "text/plain": [
       "'Hola mundo'"
      ]
     },
     "execution_count": 45,
     "metadata": {},
     "output_type": "execute_result"
    }
   ],
   "source": [
    "cadena_1.capitalize()"
   ]
  },
  {
   "cell_type": "code",
   "execution_count": 43,
   "id": "d9d0f86b",
   "metadata": {},
   "outputs": [
    {
     "data": {
      "text/plain": [
       "'cinco'"
      ]
     },
     "execution_count": 43,
     "metadata": {},
     "output_type": "execute_result"
    }
   ],
   "source": [
    "cadena_3.lower()"
   ]
  },
  {
   "cell_type": "code",
   "execution_count": 47,
   "id": "21a6bdc2",
   "metadata": {},
   "outputs": [
    {
     "data": {
      "text/plain": [
       "'CINCO'"
      ]
     },
     "execution_count": 47,
     "metadata": {},
     "output_type": "execute_result"
    }
   ],
   "source": [
    "cadena_3.upper()"
   ]
  },
  {
   "cell_type": "code",
   "execution_count": 49,
   "id": "1c1fdbbe",
   "metadata": {},
   "outputs": [
    {
     "data": {
      "text/plain": [
       "'Hola Mundo'"
      ]
     },
     "execution_count": 49,
     "metadata": {},
     "output_type": "execute_result"
    }
   ],
   "source": [
    "cadena_1.title()"
   ]
  },
  {
   "cell_type": "code",
   "execution_count": null,
   "id": "c830c401",
   "metadata": {},
   "outputs": [
    {
     "data": {
      "text/plain": [
       "['Hola', 'Mundo']"
      ]
     },
     "execution_count": 52,
     "metadata": {},
     "output_type": "execute_result"
    }
   ],
   "source": [
    "# Dividir una String\n",
    "cadena_1.split()"
   ]
  },
  {
   "cell_type": "code",
   "execution_count": null,
   "id": "c1734d64",
   "metadata": {},
   "outputs": [
    {
     "data": {
      "text/plain": [
       "2"
      ]
     },
     "execution_count": 50,
     "metadata": {},
     "output_type": "execute_result"
    }
   ],
   "source": [
    "cadena_1.count(\"o\")"
   ]
  },
  {
   "cell_type": "code",
   "execution_count": 51,
   "id": "5a03e3ab",
   "metadata": {},
   "outputs": [
    {
     "data": {
      "text/plain": [
       "10"
      ]
     },
     "execution_count": 51,
     "metadata": {},
     "output_type": "execute_result"
    }
   ],
   "source": [
    "# Longitud de una cadena\n",
    "len(cadena_1)"
   ]
  },
  {
   "cell_type": "code",
   "execution_count": 55,
   "id": "50313724",
   "metadata": {},
   "outputs": [
    {
     "data": {
      "text/plain": [
       "['Hola M', 'ndo']"
      ]
     },
     "execution_count": 55,
     "metadata": {},
     "output_type": "execute_result"
    }
   ],
   "source": [
    "# Quitar una letra string\n",
    "cadena_1.split(\"u\")"
   ]
  },
  {
   "cell_type": "code",
   "execution_count": null,
   "id": "aaddea1d",
   "metadata": {},
   "outputs": [
    {
     "data": {
      "text/plain": [
       "'(Hola Mundo),'"
      ]
     },
     "execution_count": 56,
     "metadata": {},
     "output_type": "execute_result"
    }
   ],
   "source": [
    "# Limpiando extremo string\n",
    "cadena_4 = '(Hola Mundo), '\n",
    "cadena_4.strip()\n"
   ]
  },
  {
   "cell_type": "code",
   "execution_count": 57,
   "id": "4bf00025",
   "metadata": {},
   "outputs": [
    {
     "data": {
      "text/plain": [
       "'Hola Mundo'"
      ]
     },
     "execution_count": 57,
     "metadata": {},
     "output_type": "execute_result"
    }
   ],
   "source": [
    "cadena_4.strip('(), ')"
   ]
  },
  {
   "cell_type": "code",
   "execution_count": 59,
   "id": "caf3093e",
   "metadata": {},
   "outputs": [],
   "source": [
    "#Reemplazar string\n",
    "cadena_5 = \"Hola Mundo, Bienvenidos al curso de Python Basico\"\n"
   ]
  },
  {
   "cell_type": "code",
   "execution_count": 60,
   "id": "e22a1a50",
   "metadata": {},
   "outputs": [
    {
     "data": {
      "text/plain": [
       "'Hola Mundo, Bienvenidos al curso de Python Intermedio'"
      ]
     },
     "execution_count": 60,
     "metadata": {},
     "output_type": "execute_result"
    }
   ],
   "source": [
    "cadena_5.replace(\"Python Basico\", \"Python Intermedio\")"
   ]
  }
 ],
 "metadata": {
  "kernelspec": {
   "display_name": "myenv",
   "language": "python",
   "name": "python3"
  },
  "language_info": {
   "codemirror_mode": {
    "name": "ipython",
    "version": 3
   },
   "file_extension": ".py",
   "mimetype": "text/x-python",
   "name": "python",
   "nbconvert_exporter": "python",
   "pygments_lexer": "ipython3",
   "version": "3.13.7"
  }
 },
 "nbformat": 4,
 "nbformat_minor": 5
}
