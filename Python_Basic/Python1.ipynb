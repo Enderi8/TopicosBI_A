{
 "cells": [
  {
   "cell_type": "markdown",
   "id": "abf5838b",
   "metadata": {},
   "source": [
    "# Python for Big Data\n",
    "\n",
    "1. Variables\n",
    "2. String\n",
    "3. Function print\n",
    "4. Booleanos y Condicionales\n",
    "5. Loops\n",
    "6. Funciones\n",
    "7. Manejo de Excepciones\n"
   ]
  },
  {
   "cell_type": "markdown",
   "id": "286747eb",
   "metadata": {},
   "source": [
    "#1. Variables"
   ]
  },
  {
   "cell_type": "code",
   "execution_count": null,
   "id": "cdfb6864",
   "metadata": {},
   "outputs": [],
   "source": [
    "# Variable no definidos\n",
    "resultado"
   ]
  },
  {
   "cell_type": "code",
   "execution_count": null,
   "id": "af2ac910",
   "metadata": {},
   "outputs": [],
   "source": [
    "# Operando con variables\n",
    "resultado = monto_deuda*4\n",
    "resultado"
   ]
  },
  {
   "cell_type": "code",
   "execution_count": null,
   "id": "fbc41c80",
   "metadata": {},
   "outputs": [],
   "source": [
    "# Tipo de variable\n",
    "type(monto_deuda)\n"
   ]
  },
  {
   "cell_type": "code",
   "execution_count": null,
   "id": "d39c816c",
   "metadata": {},
   "outputs": [],
   "source": [
    "type(moneda)"
   ]
  },
  {
   "cell_type": "code",
   "execution_count": null,
   "id": "67075104",
   "metadata": {},
   "outputs": [],
   "source": [
    "# Operar variables\n",
    "4*resultado"
   ]
  },
  {
   "cell_type": "code",
   "execution_count": null,
   "id": "f17bdd0a",
   "metadata": {},
   "outputs": [],
   "source": [
    "# Cambiando tipo de variable\n",
    "str_monto_deuda = str(str_monto_deuda)\n",
    "str_monto_deuda"
   ]
  },
  {
   "cell_type": "markdown",
   "id": "11b6d6d9",
   "metadata": {},
   "source": [
    "#2. String"
   ]
  }
 ],
 "metadata": {
  "kernelspec": {
   "display_name": "myenv",
   "language": "python",
   "name": "python3"
  },
  "language_info": {
   "codemirror_mode": {
    "name": "ipython",
    "version": 3
   },
   "file_extension": ".py",
   "mimetype": "text/x-python",
   "name": "python",
   "nbconvert_exporter": "python",
   "pygments_lexer": "ipython3",
   "version": "3.13.7"
  }
 },
 "nbformat": 4,
 "nbformat_minor": 5
}
