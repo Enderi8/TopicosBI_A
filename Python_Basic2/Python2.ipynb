{
 "cells": [
  {
   "cell_type": "markdown",
   "id": "c5630a71",
   "metadata": {},
   "source": [
    "# Python using Pandas and Numpy for Big Data\n",
    "\n",
    "Instala las librerias: Pandas, Numpy -> Para trabajar con Datos\n",
    "masivos.\n"
   ]
  }
 ],
 "metadata": {
  "language_info": {
   "name": "python"
  }
 },
 "nbformat": 4,
 "nbformat_minor": 5
}
