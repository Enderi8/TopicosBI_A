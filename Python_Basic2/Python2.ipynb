{
 "cells": [
  {
   "cell_type": "markdown",
   "id": "c5630a71",
   "metadata": {},
   "source": [
    "# Python using Pandas and Numpy for Big Data\n",
    "\n",
    "Instala las librerias: Pandas, Numpy -> Para trabajar con Datos\n",
    "masivos."
   ]
  },
  {
   "cell_type": "markdown",
   "id": "2a7789b3",
   "metadata": {},
   "source": [
    "## Summary\n",
    "1. Range\n",
    "2. List Comprenhension\n",
    "3. Instrucciones\n",
    "4. Fechas"
   ]
  },
  {
   "cell_type": "code",
   "execution_count": 4,
   "id": "793cb3dd",
   "metadata": {},
   "outputs": [
    {
     "name": "stdout",
     "output_type": "stream",
     "text": [
      "range(0, 9)\n"
     ]
    }
   ],
   "source": [
    "print(range(9))"
   ]
  },
  {
   "cell_type": "code",
   "execution_count": 5,
   "id": "5cfb419e",
   "metadata": {},
   "outputs": [
    {
     "name": "stdout",
     "output_type": "stream",
     "text": [
      "0\n",
      "1\n",
      "2\n",
      "3\n",
      "4\n",
      "5\n",
      "6\n",
      "7\n",
      "8\n"
     ]
    }
   ],
   "source": [
    "for i in range(9):\n",
    "    print(i)"
   ]
  }
 ],
 "metadata": {
  "kernelspec": {
   "display_name": "myenv",
   "language": "python",
   "name": "python3"
  },
  "language_info": {
   "codemirror_mode": {
    "name": "ipython",
    "version": 3
   },
   "file_extension": ".py",
   "mimetype": "text/x-python",
   "name": "python",
   "nbconvert_exporter": "python",
   "pygments_lexer": "ipython3",
   "version": "3.13.7"
  }
 },
 "nbformat": 4,
 "nbformat_minor": 5
}
